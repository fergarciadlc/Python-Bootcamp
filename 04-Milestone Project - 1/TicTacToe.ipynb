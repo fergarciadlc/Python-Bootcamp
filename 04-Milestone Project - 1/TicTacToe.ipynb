{
 "cells": [
  {
   "cell_type": "markdown",
   "metadata": {},
   "source": [
    "# Tic Tac Toe"
   ]
  },
  {
   "cell_type": "code",
   "execution_count": 45,
   "metadata": {},
   "outputs": [],
   "source": [
    "def display_game():\n",
    "    print(f1)\n",
    "    print(f2)\n",
    "    print(f3)\n",
    "\n",
    "from IPython.display import clear_output\n",
    "clear_output()    \n",
    "def user_choice():\n",
    "    \n",
    "    # This original choice value can be anything that isn't an integer\n",
    "    choice = 'wrong'\n",
    "    acceptable_values = ['1','2','3','4','5','6','7','8','9']\n",
    "    \n",
    "    # While the choice is not a digit, keep asking for input.\n",
    "    while choice not in acceptable_values:\n",
    "        \n",
    "        # we shouldn't convert here, otherwise we get an error on a wrong input\n",
    "        choice = input(\"Select position: \")\n",
    "        \n",
    "        if choice not in acceptable_values:\n",
    "            # THIS CLEARS THE CURRENT OUTPUT BELOW THE CELL\n",
    "            clear_output()\n",
    "            \n",
    "            print(\"Sorry, but you did not choose a value in the correct range\")\n",
    "            \n",
    "    clear_output()\n",
    "    # We can convert once the while loop above has confirmed we have a digit.\n",
    "    return int(choice)\n",
    "\n",
    "def insert_play(position,xo):\n",
    "    if position in [1,2,3]:\n",
    "        f3[position-1]=xo\n",
    "    if position in [4,5,6]:\n",
    "        f2[position-4]=xo\n",
    "    if position in [7,8,9]:\n",
    "        f1[position-7]=xo\n",
    "\n",
    "def check_win(xo):\n",
    "    # by rows - horizontal\n",
    "    win1=[xo,xo,xo]\n",
    "    if f1==win1 or f2==win1 or f3==win1:\n",
    "        print(xo,\"is the winner!\")\n",
    "        return True\n",
    "    # by columns - vertical\n",
    "    for ix in [0,1,2]:\n",
    "        if f1[ix]==xo and f2[ix]==xo and f3[ix]==xo:\n",
    "            print(xo,\"is the winner!\")\n",
    "            return True\n",
    "    # by X\n",
    "    if f1[0]==xo and f2[1] == xo and f3[2]==xo:\n",
    "        print(xo,\"is the winner!\")\n",
    "    if f1[2]==xo and f2[1] == xo and f3[0]==xo:\n",
    "        print(xo,\"is the winner!\")\n",
    "        return True\n",
    "    return False"
   ]
  },
  {
   "cell_type": "code",
   "execution_count": 3,
   "metadata": {},
   "outputs": [
    {
     "name": "stdout",
     "output_type": "stream",
     "text": [
      "[' ', ' ', ' ']\n",
      "[' ', ' ', ' ']\n",
      "[' ', ' ', 'X']\n"
     ]
    }
   ],
   "source": [
    "f1=[' ',' ',' ']\n",
    "f2=[' ',' ',' ']\n",
    "f3=[' ',' ',' ']\n",
    "#display_game()\n",
    "pos=user_choice()\n",
    "insert_play(pos,'X')\n",
    "display_game()"
   ]
  },
  {
   "cell_type": "code",
   "execution_count": 39,
   "metadata": {},
   "outputs": [
    {
     "name": "stdout",
     "output_type": "stream",
     "text": [
      "O is the winner!\n"
     ]
    },
    {
     "data": {
      "text/plain": [
       "True"
      ]
     },
     "execution_count": 39,
     "metadata": {},
     "output_type": "execute_result"
    }
   ],
   "source": [
    "f1=['X','X','O']\n",
    "f2=['X','O','O']\n",
    "f3=['O','O','X']\n",
    "flag=check_win('O')\n",
    "flag"
   ]
  },
  {
   "cell_type": "code",
   "execution_count": 49,
   "metadata": {},
   "outputs": [
    {
     "name": "stdout",
     "output_type": "stream",
     "text": [
      "X is the winner!\n",
      "[' ', ' ', 'X']\n",
      "['O', 'X', 'O']\n",
      "['X', 'O', 'X']\n",
      "Finished\n"
     ]
    }
   ],
   "source": [
    "f1=[' ',' ',' ']\n",
    "f2=[' ',' ',' ']\n",
    "f3=[' ',' ',' ']\n",
    "\n",
    "win = False\n",
    "xo=['X','O','X','O','X','O','X','O','X']\n",
    "n=0\n",
    "while win == False:\n",
    "    display_game()\n",
    "    print(\"Turn of \",xo[n])\n",
    "    \n",
    "    pos=user_choice()\n",
    "    \n",
    "    insert_play(pos,xo[n])\n",
    "    \n",
    "    win = check_win(xo[n])\n",
    "    \n",
    "    n+=1\n",
    "    if n==len(xo):\n",
    "        print(\"Tie!\")\n",
    "        break\n",
    "        \n",
    "display_game()\n",
    "print(\"Finished\")"
   ]
  }
 ],
 "metadata": {
  "kernelspec": {
   "display_name": "Python 3",
   "language": "python",
   "name": "python3"
  },
  "language_info": {
   "codemirror_mode": {
    "name": "ipython",
    "version": 3
   },
   "file_extension": ".py",
   "mimetype": "text/x-python",
   "name": "python",
   "nbconvert_exporter": "python",
   "pygments_lexer": "ipython3",
   "version": "3.7.6"
  }
 },
 "nbformat": 4,
 "nbformat_minor": 2
}
